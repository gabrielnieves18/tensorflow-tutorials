{
 "cells": [
  {
   "cell_type": "code",
   "execution_count": 5,
   "metadata": {
    "collapsed": true
   },
   "outputs": [],
   "source": [
    "# call %matplotlib only in a Jupiter notebook\n",
    "%matplotlib inline \n",
    "\n",
    "# Common imports\n",
    "import matplotlib.pyplot as plt\n",
    "import numpy as np\n",
    "import pandas as pd\n",
    "import tensorflow as tf"
   ]
  },
  {
   "cell_type": "markdown",
   "metadata": {},
   "source": [
    "# Tensorflow tutorial with simple example\n",
    "In this part, we shall examine a code to run linear regression. Before that, let’s look at some of the basic TensorFlow functions that we shall use in the code."
   ]
  },
  {
   "cell_type": "markdown",
   "metadata": {},
   "source": [
    "## Create a random normal distribution\n",
    "Use ***random_normal*** to create random values from a normal distribution. In this example, *w* is a variable which is of size 784*10 with random values with standard deviation 0.01."
   ]
  },
  {
   "cell_type": "code",
   "execution_count": 37,
   "metadata": {},
   "outputs": [
    {
     "data": {
      "text/plain": [
       "<tf.Variable 'Variable_4:0' shape=(784, 10) dtype=float32_ref>"
      ]
     },
     "execution_count": 37,
     "metadata": {},
     "output_type": "execute_result"
    }
   ],
   "source": [
    "w=tf.Variable(tf.random_normal([784, 10], stddev=0.01))\n",
    "w"
   ]
  },
  {
   "cell_type": "code",
   "execution_count": 19,
   "metadata": {},
   "outputs": [
    {
     "data": {
      "image/png": "[encoded data removed]",
      "text/plain": [
       "<matplotlib.figure.Figure at 0x7f9721659710>"
      ]
     },
     "metadata": {},
     "output_type": "display_data"
    }
   ],
   "source": [
    "pd_w = pd.DataFrame()\n",
    "\n",
    "with tf.Session() as sess:\n",
    "    sess.run(tf.global_variables_initializer())\n",
    "    pd_w = pd.DataFrame(sess.run(w))\n",
    "    pd_w.hist(bins=50, figsize=(15, 10))\n",
    "    plt.show()"
   ]
  },
  {
   "cell_type": "markdown",
   "metadata": {},
   "source": [
    ">**Note:** Here we can see a histogram for each vector within the Tensor. As expected they are all normal distributions. \n",
    "\n",
    "> If you look close enough, you can that the values at index ***[ 0 ]*** have a bit of tail towards -0.03. The effects of this tail are negligible as for the purposes of this tutorial."
   ]
  },
  {
   "cell_type": "code",
   "execution_count": 21,
   "metadata": {},
   "outputs": [
    {
     "data": {
      "text/html": [
       "<div>\n",
       "<style>\n",
       "    .dataframe thead tr:only-child th {\n",
       "        text-align: right;\n",
       "    }\n",
       "\n",
       "    .dataframe thead th {\n",
       "        text-align: left;\n",
       "    }\n",
       "\n",
       "    .dataframe tbody tr th {\n",
       "        vertical-align: top;\n",
       "    }\n",
       "</style>\n",
       "<table border=\"1\" class=\"dataframe\">\n",
       "  <thead>\n",
       "    <tr style=\"text-align: right;\">\n",
       "      <th></th>\n",
       "      <th>0</th>\n",
       "      <th>1</th>\n",
       "      <th>2</th>\n",
       "      <th>3</th>\n",
       "      <th>4</th>\n",
       "      <th>5</th>\n",
       "      <th>6</th>\n",
       "      <th>7</th>\n",
       "      <th>8</th>\n",
       "      <th>9</th>\n",
       "    </tr>\n",
       "  </thead>\n",
       "  <tbody>\n",
       "    <tr>\n",
       "      <th>0</th>\n",
       "      <td>-0.005908</td>\n",
       "      <td>-0.016406</td>\n",
       "      <td>-0.006190</td>\n",
       "      <td>-0.000443</td>\n",
       "      <td>-0.001358</td>\n",
       "      <td>0.000137</td>\n",
       "      <td>-0.003376</td>\n",
       "      <td>-0.006307</td>\n",
       "      <td>-0.013915</td>\n",
       "      <td>0.002383</td>\n",
       "    </tr>\n",
       "    <tr>\n",
       "      <th>1</th>\n",
       "      <td>0.001880</td>\n",
       "      <td>0.001968</td>\n",
       "      <td>0.012300</td>\n",
       "      <td>0.004702</td>\n",
       "      <td>-0.015794</td>\n",
       "      <td>0.006782</td>\n",
       "      <td>-0.015513</td>\n",
       "      <td>0.000189</td>\n",
       "      <td>0.008175</td>\n",
       "      <td>0.006764</td>\n",
       "    </tr>\n",
       "    <tr>\n",
       "      <th>2</th>\n",
       "      <td>-0.020963</td>\n",
       "      <td>0.000721</td>\n",
       "      <td>-0.011924</td>\n",
       "      <td>-0.007593</td>\n",
       "      <td>0.001875</td>\n",
       "      <td>-0.017287</td>\n",
       "      <td>0.010189</td>\n",
       "      <td>-0.002682</td>\n",
       "      <td>-0.004847</td>\n",
       "      <td>-0.007262</td>\n",
       "    </tr>\n",
       "    <tr>\n",
       "      <th>3</th>\n",
       "      <td>0.005373</td>\n",
       "      <td>-0.006379</td>\n",
       "      <td>0.007228</td>\n",
       "      <td>-0.002410</td>\n",
       "      <td>0.010866</td>\n",
       "      <td>-0.002527</td>\n",
       "      <td>0.001140</td>\n",
       "      <td>0.013231</td>\n",
       "      <td>-0.002539</td>\n",
       "      <td>-0.002320</td>\n",
       "    </tr>\n",
       "    <tr>\n",
       "      <th>4</th>\n",
       "      <td>-0.005190</td>\n",
       "      <td>0.000038</td>\n",
       "      <td>0.002125</td>\n",
       "      <td>0.024582</td>\n",
       "      <td>-0.005105</td>\n",
       "      <td>-0.011225</td>\n",
       "      <td>-0.003726</td>\n",
       "      <td>0.004548</td>\n",
       "      <td>-0.014128</td>\n",
       "      <td>-0.000497</td>\n",
       "    </tr>\n",
       "  </tbody>\n",
       "</table>\n",
       "</div>"
      ],
      "text/plain": [
       "          0         1         2         3         4         5         6  \\\n",
       "0 -0.005908 -0.016406 -0.006190 -0.000443 -0.001358  0.000137 -0.003376   \n",
       "1  0.001880  0.001968  0.012300  0.004702 -0.015794  0.006782 -0.015513   \n",
       "2 -0.020963  0.000721 -0.011924 -0.007593  0.001875 -0.017287  0.010189   \n",
       "3  0.005373 -0.006379  0.007228 -0.002410  0.010866 -0.002527  0.001140   \n",
       "4 -0.005190  0.000038  0.002125  0.024582 -0.005105 -0.011225 -0.003726   \n",
       "\n",
       "          7         8         9  \n",
       "0 -0.006307 -0.013915  0.002383  \n",
       "1  0.000189  0.008175  0.006764  \n",
       "2 -0.002682 -0.004847 -0.007262  \n",
       "3  0.013231 -0.002539 -0.002320  \n",
       "4  0.004548 -0.014128 -0.000497  "
      ]
     },
     "execution_count": 21,
     "metadata": {},
     "output_type": "execute_result"
    }
   ],
   "source": [
    "pd_w.head()"
   ]
  },
  {
   "cell_type": "markdown",
   "metadata": {},
   "source": [
    "## Reduce_mean\n",
    "\n",
    "calculates the mean of an array."
   ]
  },
  {
   "cell_type": "code",
   "execution_count": 45,
   "metadata": {},
   "outputs": [
    {
     "name": "stdout",
     "output_type": "stream",
     "text": [
      "Mean = 35\n"
     ]
    }
   ],
   "source": [
    "b = tf.Variable([10,20,30,40,50,60],name='t')\n",
    "\n",
    "with tf.Session() as sess:\n",
    "    init_b = b.initialized_value()\n",
    "    mean = sess.run(tf.reduce_mean(init_b))\n",
    "    print(\"Mean = {}\".format(mean))"
   ]
  },
  {
   "cell_type": "markdown",
   "metadata": {},
   "source": [
    ">**Note:** If you look closely, you will notice that I din't use ***tf.global_variables_initializer()*** before using the content of the **tf.Varible** ***b***. \n",
    "\n",
    "> As I stated earlier in my other tutorial \"*Tensorflow 101 tutorial*\" ***tf.global_variables_initializer()*** initializes every variable within the graph. In this case, we only want to initialize *b* so we used ***tf.Variable.initialized_value()*** to initialize just that particular variable. "
   ]
  },
  {
   "cell_type": "markdown",
   "metadata": {},
   "source": [
    "# ArgMax\n",
    "Very similar to python argmax. Gets you the maximum value from a tensor along the specified axis"
   ]
  },
  {
   "cell_type": "code",
   "execution_count": 54,
   "metadata": {},
   "outputs": [
    {
     "name": "stdout",
     "output_type": "stream",
     "text": [
      "maxArg = [2 0]\n"
     ]
    }
   ],
   "source": [
    "a=[ \n",
    "    [0.1, 0.2, 0.3],\n",
    "    [20, 2, 3]\n",
    "  ]\n",
    "\n",
    "b = tf.Variable(a, name='b')\n",
    "\n",
    "# Will print maxArg = [2 0]\n",
    "with tf.Session() as sess:\n",
    "    init_b = b.initialized_value()\n",
    "    argmax = sess.run(tf.argmax(init_b ,1))\n",
    "    print(\"maxArg = {}\".format(maxarg))"
   ]
  },
  {
   "cell_type": "markdown",
   "metadata": {},
   "source": [
    ">**Note:** As spected, it prints array([2, 0]) which shows the index of the maximum value in each row of the Tensor \"a\". "
   ]
  },
  {
   "cell_type": "markdown",
   "metadata": {},
   "source": [
    "## Linear Regression Exercise\n",
    "\n",
    "***Problem statement:*** In linear regression, you get a lot of data-points and try to fit them on a straight line. For this example, we will create 100 datapoints and try to fit them into a line."
   ]
  },
  {
   "cell_type": "markdown",
   "metadata": {},
   "source": [
    "### Creating training data\n",
    "\n",
    "trainX has values between -1 and 1, and trainY has 3 times the trainX and some randomness."
   ]
  },
  {
   "cell_type": "code",
   "execution_count": 64,
   "metadata": {},
   "outputs": [],
   "source": [
    "trainX = np.linspace(-1, 1, 101)\n",
    "trainY = 3 * trainX + np.random.randn(*trainX.shape) * 0.33"
   ]
  },
  {
   "cell_type": "markdown",
   "metadata": {},
   "source": [
    "### Placeholders"
   ]
  },
  {
   "cell_type": "code",
   "execution_count": 66,
   "metadata": {
    "collapsed": true
   },
   "outputs": [],
   "source": [
    "X = tf.placeholder(\"float\")\n",
    "Y = tf.placeholder(\"float\")"
   ]
  },
  {
   "cell_type": "markdown",
   "metadata": {},
   "source": [
    ">**Note:** It's common to replresent the feature Tensor as **X** and the label Tensor as **Y**"
   ]
  },
  {
   "cell_type": "markdown",
   "metadata": {},
   "source": [
    "### Modeling\n",
    "\n",
    "A general Linear regression model looks like this: \n",
    "\n",
    "$$ \\hat{y} = \\theta_{0} + \\theta_{1}X $$\n",
    "\n",
    "Where: $\\ \\hat{y} \\ $  is our linear regression model, $\\  \\theta_{0}\\ $  is a constant that we call ***bias***, $\\theta_{1} \\ $  is another constant called ***weight***, and $\\ X \\  $ is our feature Tensor\n",
    "\n",
    "\n",
    "We have to calculate the value of $\\ \\theta \\ $ (theta) through our model. \n",
    "\n",
    "Let’s initialize $\\ \\theta_{0} \\ and \\ \\theta_{1} \\ $ to 0 and create a model to solve this problem. But first, lets define the cost function that we will use to minimize the error for a particular feature set (the function seen below is called ***Squared Error***. Its a popular type of cost function): \n",
    "\n",
    "$$ C(Y, \\hat{y}) = (\\ Y-\\hat{y}(X)\\ )^2 $$\n",
    "\n",
    "TensorFlow comes with many optimizers that calculate and update the gradients after each iteration while trying to minimize the specified cost. We are going to define the training operation as changing the values using ***GradientDescentOptimizer*** to minimize cost with a learning rate of 0.01. Later we will run this training operation in a loop.\n",
    "\n",
    ">***Note:*** This is an overly simplified description mean for newbies like my self. The book [\"Hands-On Machine Learning with Scikit-Learn and Tensorflow\"](http://shop.oreilly.com/product/0636920052289.do) has in-depth examples and mathematical representations of Linear Regression Models and MUCH MORE! I recommend buying if you are serious about Machine Learning."
   ]
  },
  {
   "cell_type": "code",
   "execution_count": 67,
   "metadata": {
    "collapsed": true
   },
   "outputs": [],
   "source": [
    "theta_0 = tf.Variable(0.0, name=\"theta_0\")\n",
    "theta_1 = tf.Variable(0.0, name=\"theta_1\")\n",
    "y_model = theta_0 + tf.multiply(theta_1, X)\n",
    " \n",
    "# Y was defined earlier as a placeholder\n",
    "error = (Y - y_model)\n",
    "\n",
    "cost = tf.pow(error, 2)\n",
    "\n",
    "train_op = tf.train.GradientDescentOptimizer(0.01).minimize(cost)"
   ]
  },
  {
   "cell_type": "markdown",
   "metadata": {},
   "source": [
    "### Training\n",
    "\n",
    "Till this point, we have only defined the graph. No computation has happened.\n",
    "\n",
    "None of the TensorFlow variables have any value. In order to run this graph, we need to create a Session and run. Before that we need to create the init_op to initialize all variables:"
   ]
  },
  {
   "cell_type": "code",
   "execution_count": 92,
   "metadata": {},
   "outputs": [],
   "source": [
    "init = tf.global_variables_initializer()\n",
    "\n",
    "theta_0_optimal, theta_1_optimal = (0, 0)\n",
    "\n",
    "with tf.Session() as sess:\n",
    "    sess.run(init)\n",
    "    for i in range(100):\n",
    "        # Defined earlier trainX has values between -1 and 1,\n",
    "        # and trainY has 3 times the trainX and some randomness.\n",
    "        for (x, y) in zip(trainX, trainY):\n",
    "            sess.run(train_op, feed_dict={X: x, Y: y})\n",
    "    \n",
    "    theta_0_optimal = sess.run(theta_0)\n",
    "    theta_1_optimal = sess.run(theta_1)"
   ]
  },
  {
   "cell_type": "code",
   "execution_count": 93,
   "metadata": {},
   "outputs": [
    {
     "name": "stdout",
     "output_type": "stream",
     "text": [
      "Optimal theta_0 = -0.02850906364619732\n",
      "Optimal theta_1 = 2.9555344581604004\n"
     ]
    }
   ],
   "source": [
    "print(\"Optimal theta_0 = {}\".format(theta_0_optimal))\n",
    "print(\"Optimal theta_1 = {}\".format(theta_1_optimal))"
   ]
  },
  {
   "cell_type": "markdown",
   "metadata": {},
   "source": [
    "**Let's see what just happened by the numbers!**\n",
    "\n",
    "1. Create init operation to initilize all variables within the graph\n",
    "1. Create two new python variables, `theta_0_optimal, theta_1_optimal`, and initialize them to 0.\n",
    "1. Initialize the variables within the graph by calling init inside `session.run()`.\n",
    "1. Run train_op a hundred times and feed the content of our features (X) and labels (Y) via the `feed_dict` parameter. \n",
    "1. Print the new value of `theta_0 and theta_1` referenced by the python variables `theta_0_optimal, theta_1_optimal`."
   ]
  },
  {
   "cell_type": "markdown",
   "metadata": {},
   "source": [
    "## Exercise\n",
    "\n",
    "If you create a new session block after this code and try to print w, what will be the output?"
   ]
  },
  {
   "cell_type": "code",
   "execution_count": 94,
   "metadata": {},
   "outputs": [
    {
     "name": "stdout",
     "output_type": "stream",
     "text": [
      "0.0\n",
      "0.0\n"
     ]
    }
   ],
   "source": [
    "with tf.Session() as sess:\n",
    "    sess.run(init)\n",
    "    print(sess.run(theta_0))\n",
    "    print(sess.run(theta_1))"
   ]
  },
  {
   "cell_type": "markdown",
   "metadata": {},
   "source": [
    "It will be 0.0. That’s the idea of symbolic computation. Once, we have gotten out of session created earlier, all the operations cease to exist."
   ]
  },
  {
   "cell_type": "markdown",
   "metadata": {},
   "source": [
    "# Conclusion\n",
    "\n",
    "That's it, folks! Hope you liked the tutorial, and are as exited about Tensorflow and Machine Learning as I am. For more information about the subject, visit the author's website, [right here](http://cv-tricks.com/artificial-intelligence/deep-learning/deep-learning-frameworks/tensorflow/tensorflow-tutorial/)."
   ]
  },
  {
   "cell_type": "code",
   "execution_count": null,
   "metadata": {
    "collapsed": true
   },
   "outputs": [],
   "source": []
  }
 ],
 "metadata": {
  "kernelspec": {
   "display_name": "Python 3",
   "language": "python",
   "name": "python3"
  },
  "language_info": {
   "codemirror_mode": {
    "name": "ipython",
    "version": 3
   },
   "file_extension": ".py",
   "mimetype": "text/x-python",
   "name": "python",
   "nbconvert_exporter": "python",
   "pygments_lexer": "ipython3",
   "version": "3.5.2"
  }
 },
 "nbformat": 4,
 "nbformat_minor": 2
}
