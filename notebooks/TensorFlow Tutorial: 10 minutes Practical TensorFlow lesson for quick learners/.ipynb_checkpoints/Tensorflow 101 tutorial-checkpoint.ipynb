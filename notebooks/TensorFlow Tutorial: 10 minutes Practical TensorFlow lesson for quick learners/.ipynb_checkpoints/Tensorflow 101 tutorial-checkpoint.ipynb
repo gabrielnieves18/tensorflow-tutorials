{
 "cells": [
  {
   "cell_type": "code",
   "execution_count": 37,
   "metadata": {
    "collapsed": true
   },
   "outputs": [],
   "source": [
    "# Common imports\n",
    "import tensorflow as tf"
   ]
  },
  {
   "cell_type": "code",
   "execution_count": 38,
   "metadata": {
    "collapsed": true
   },
   "outputs": [],
   "source": [
    "def get_graph_operation_names(graph=tf.get_default_graph()):\n",
    "    '''\n",
    "    Return a list of all the operation names within a graph.\n",
    "    '''\n",
    "    op_names = []\n",
    "\n",
    "    for op in graph.get_operations():\n",
    "        op_names.append(op.name)\n",
    "        \n",
    "    return(op_names)"
   ]
  },
  {
   "cell_type": "markdown",
   "metadata": {},
   "source": [
    "# Graph in TensorFlow\n",
    "\n",
    "Graph is the backbone of TensorFlow and every computation/operation/variables reside on the graph. Everything that happens in the code, resides on a default graph provided by TensorFlow"
   ]
  },
  {
   "cell_type": "code",
   "execution_count": 39,
   "metadata": {},
   "outputs": [
    {
     "data": {
      "text/plain": [
       "[<tf.Operation 'Const' type=Const>,\n",
       " <tf.Operation 'test_var/initial_value' type=Const>,\n",
       " <tf.Operation 'test_var' type=VariableV2>,\n",
       " <tf.Operation 'test_var/Assign' type=Assign>,\n",
       " <tf.Operation 'test_var/read' type=Identity>,\n",
       " <tf.Operation 'init' type=NoOp>,\n",
       " <tf.Operation 'Placeholder' type=Placeholder>,\n",
       " <tf.Operation 'Placeholder_1' type=Placeholder>,\n",
       " <tf.Operation 'Mul' type=Mul>,\n",
       " <tf.Operation 'Placeholder_2' type=Placeholder>,\n",
       " <tf.Operation 'Placeholder_3' type=Placeholder>,\n",
       " <tf.Operation 'Mul_1' type=Mul>,\n",
       " <tf.Operation 'Placeholder_4' type=Placeholder>,\n",
       " <tf.Operation 'Placeholder_5' type=Placeholder>,\n",
       " <tf.Operation 'Mul_2' type=Mul>,\n",
       " <tf.Operation 'Placeholder_6' type=Placeholder>,\n",
       " <tf.Operation 'Placeholder_7' type=Placeholder>,\n",
       " <tf.Operation 'Mul_3' type=Mul>,\n",
       " <tf.Operation 'Placeholder_8' type=Placeholder>,\n",
       " <tf.Operation 'Placeholder_9' type=Placeholder>,\n",
       " <tf.Operation 'Mul_4' type=Mul>]"
      ]
     },
     "execution_count": 39,
     "metadata": {},
     "output_type": "execute_result"
    }
   ],
   "source": [
    "# get a list of the graph operations\n",
    "graph = tf.get_default_graph()\n",
    "graph.get_operations()"
   ]
  },
  {
   "cell_type": "markdown",
   "metadata": {},
   "source": [
    "# TensorFlow Session\n",
    "\n",
    "A graph is used to define operations, but the operations are only run within a session. Graphs and sessions are created independently of each other. You can imagine graph to be similar to a blueprint, and a session to be similar to a construction site.\n",
    "\n",
    "Graph only defines the computations or builds the blueprint. However, there are no variables, no values unless we run the graph or part of the graph within a session."
   ]
  },
  {
   "cell_type": "code",
   "execution_count": 40,
   "metadata": {
    "collapsed": true
   },
   "outputs": [],
   "source": [
    "sess=tf.Session()\n",
    "#... your code ...\n",
    "#... your code ...\n",
    "sess.close()"
   ]
  },
  {
   "cell_type": "markdown",
   "metadata": {},
   "source": [
    ">**Note:** *Whenever, you open a session, you need to remember to close it. Or you can use ‘with block’ like this.*\n",
    "\n",
    "\n",
    ">```python\n",
    "with tf.Session() as sess:\n",
    "    sess.run(f)\n",
    "```\n",
    "\n",
    ">One advantage of the 'with block' is that the session closes automatically at the end of the 'with block'. We use with block in most of our code and recommend you to do so too."
   ]
  },
  {
   "cell_type": "markdown",
   "metadata": {},
   "source": [
    "# Tensors in TensorFlow\n",
    "\n",
    "TF holds data in Tensors which are similar to numPy multi-dimensional arrays (although they are different from numPy Arrays)"
   ]
  },
  {
   "cell_type": "markdown",
   "metadata": {
    "collapsed": true
   },
   "source": [
    "## Constants:\n",
    "constants are like variables in any other language whose value can’t be changed. \n",
    "\n",
    "You can declare a constant like this:"
   ]
  },
  {
   "cell_type": "code",
   "execution_count": 41,
   "metadata": {},
   "outputs": [
    {
     "data": {
      "text/plain": [
       "<tf.Tensor 'Const_1:0' shape=() dtype=float32>"
      ]
     },
     "execution_count": 41,
     "metadata": {},
     "output_type": "execute_result"
    }
   ],
   "source": [
    "a=tf.constant(1.0)\n",
    "a"
   ]
  },
  {
   "cell_type": "code",
   "execution_count": 42,
   "metadata": {},
   "outputs": [
    {
     "name": "stdout",
     "output_type": "stream",
     "text": [
      "Tensor(\"Const_1:0\", shape=(), dtype=float32)\n"
     ]
    }
   ],
   "source": [
    "print(a)"
   ]
  },
  {
   "cell_type": "markdown",
   "metadata": {},
   "source": [
    "As you can see, this is different from other programming languages like python, you can’t print/access constant a unless you run it inside a session. Let’s do it: "
   ]
  },
  {
   "cell_type": "code",
   "execution_count": 43,
   "metadata": {},
   "outputs": [
    {
     "name": "stdout",
     "output_type": "stream",
     "text": [
      "1.0\n"
     ]
    }
   ],
   "source": [
    "# This will produce 1.0 as output\n",
    "# The value we chose for our constant\n",
    "with tf.Session() as sess:\n",
    "    print(sess.run(a))"
   ]
  },
  {
   "cell_type": "markdown",
   "metadata": {},
   "source": [
    "## Variables:\n",
    "\n",
    "Similar to constants, variables are Tensors that can hold any value. The main diference is that, opposite to a constant, a variable's value can be changed after being initiated. "
   ]
  },
  {
   "cell_type": "code",
   "execution_count": 44,
   "metadata": {},
   "outputs": [
    {
     "data": {
      "text/plain": [
       "<tf.Variable 'test_var_1:0' shape=() dtype=float32_ref>"
      ]
     },
     "execution_count": 44,
     "metadata": {},
     "output_type": "execute_result"
    }
   ],
   "source": [
    "b = tf.Variable(2.0,name=\"test_var\")\n",
    "b"
   ]
  },
  {
   "cell_type": "markdown",
   "metadata": {},
   "source": [
    "There is one major diference between TF.constant and TF.Variable. \n",
    "Tensorflow Variables **must** be initialize by an init operation.\n",
    "\n",
    "The Tensorflow team knowns that it could be taxing to initialize all the variables individually. Thats why they provide a mechanism to initialize all the variables at once."
   ]
  },
  {
   "cell_type": "code",
   "execution_count": 45,
   "metadata": {
    "collapsed": true
   },
   "outputs": [],
   "source": [
    "# For tf version 0.11 and earlier, use initialize_all_variables()  \n",
    "# init_op = tf.initialize_all_variables()\n",
    "\n",
    "# Use global_variables_initializer() for tf version 0.12 and later.\n",
    "init_op = tf.global_variables_initializer()"
   ]
  },
  {
   "cell_type": "code",
   "execution_count": 46,
   "metadata": {},
   "outputs": [
    {
     "name": "stdout",
     "output_type": "stream",
     "text": [
      "2.0\n"
     ]
    }
   ],
   "source": [
    "# This should print 2.0\n",
    "# The value of variable b\n",
    "with tf.Session() as sess:\n",
    "    sess.run(init_op)\n",
    "    print(sess.run(b))"
   ]
  },
  {
   "cell_type": "markdown",
   "metadata": {},
   "source": [
    "## Placeholders\n",
    "\n",
    "Placeholders are tensors which are waiting to be initialized/fed. Placeholders are used for training data which is only fed when the code is actually runing inside a session. \n",
    "\n",
    "We use a dictionary to feed data into the Placehoders. For this example we created a dictionary named ***feed_dict*** and passed it to the ***session.run*** function along with our multiplication operation."
   ]
  },
  {
   "cell_type": "code",
   "execution_count": 47,
   "metadata": {},
   "outputs": [
    {
     "name": "stdout",
     "output_type": "stream",
     "text": [
      "6.0\n"
     ]
    }
   ],
   "source": [
    "a = tf.placeholder(\"float\")\n",
    "b = tf.placeholder(\"float\")\n",
    "y = tf.multiply(a, b)\n",
    "\n",
    "# For Tensorflow < v1.0\n",
    "# y = tf.mul(a, b) \n",
    "\n",
    "'''\n",
    "Typically we load feed_dict from somewhere else. An exmape could \n",
    "be reading from a training dataset, csv file, server API call, etc.\n",
    "For simplicity, we will create the content of feed_dict locally.\n",
    "'''\n",
    "feed_dict = {a:2, b:3}\n",
    "\n",
    "# This will print 6.0\n",
    "with tf.Session() as sess:\n",
    "       print(sess.run(y, feed_dict))"
   ]
  },
  {
   "cell_type": "markdown",
   "metadata": {
    "collapsed": true
   },
   "source": [
    "> **Note:** You could also have defined the dictionary inline within the ***session.run*** a function like this:\n",
    "\n",
    ">```python\n",
    "# This will also print 6.0\n",
    "with tf.Session() as sess:\n",
    "       print(sess.run(y, {a:2, b:3}))\n",
    "```\n",
    "\n",
    "> Both are valid implementations. The second example might be more difficult to understand at a first glance, so I decided to leave the original authors code. \n"
   ]
  },
  {
   "cell_type": "markdown",
   "metadata": {},
   "source": [
    "# Whats on the Graph so far?"
   ]
  },
  {
   "cell_type": "code",
   "execution_count": 48,
   "metadata": {},
   "outputs": [
    {
     "data": {
      "text/plain": [
       "['Const',\n",
       " 'test_var/initial_value',\n",
       " 'test_var',\n",
       " 'test_var/Assign',\n",
       " 'test_var/read',\n",
       " 'init',\n",
       " 'Placeholder',\n",
       " 'Placeholder_1',\n",
       " 'Mul',\n",
       " 'Placeholder_2',\n",
       " 'Placeholder_3',\n",
       " 'Mul_1',\n",
       " 'Placeholder_4',\n",
       " 'Placeholder_5',\n",
       " 'Mul_2',\n",
       " 'Placeholder_6',\n",
       " 'Placeholder_7',\n",
       " 'Mul_3',\n",
       " 'Placeholder_8',\n",
       " 'Placeholder_9',\n",
       " 'Mul_4',\n",
       " 'Const_1',\n",
       " 'test_var_1/initial_value',\n",
       " 'test_var_1',\n",
       " 'test_var_1/Assign',\n",
       " 'test_var_1/read',\n",
       " 'init_1',\n",
       " 'Placeholder_10',\n",
       " 'Placeholder_11',\n",
       " 'Mul_5']"
      ]
     },
     "execution_count": 48,
     "metadata": {},
     "output_type": "execute_result"
    }
   ],
   "source": [
    "get_graph_operation_names()"
   ]
  },
  {
   "cell_type": "markdown",
   "metadata": {},
   "source": [
    "As you can see, we have declared ‘*a*’ as Const so this has been added to the graph. Similarly, for the variable b, many ‘test_var’ states have been added to the TensorFlow graph like test_var/initial_value, test_var/read etc. You can visualize the complete network using TensorBoard, which is a tool to visualize a TensorFlow graph and training process."
   ]
  },
  {
   "cell_type": "markdown",
   "metadata": {},
   "source": [
    "# Devices in TensorFlow\n",
    "\n",
    "TensorFlow has very strong built-in capabilities to easily run your code on a GPU, CPU, homogeneous cluster, or nonhomogeneous cluster (*Non homogeneous cluster are not recommended, for reasons beyond the scope of this tutorial*). It provides you options to select the device where you want to run your code. However, this is not something that you need to worry about when you are just getting started. We shall write a separate tutorial on this later. So, here is the complete picture:\n",
    "\n",
    "<img src=\"http://cv-tricks.com/wp-content/uploads/2017/02/xTensorflow_Graph_0.png.pagespeed.ic.U_RLEnluD2.webp\" />\n",
    "\n",
    "**Note:** Personally, I believe this is one of the coooooooooolest feature currently available in Tensorflow. I will add an example for online training on a GPU cluster using Google Cloud in a different repo. So stay posted!"
   ]
  },
  {
   "cell_type": "code",
   "execution_count": null,
   "metadata": {
    "collapsed": true
   },
   "outputs": [],
   "source": []
  }
 ],
 "metadata": {
  "kernelspec": {
   "display_name": "Python 3",
   "language": "python",
   "name": "python3"
  },
  "language_info": {
   "codemirror_mode": {
    "name": "ipython",
    "version": 3
   },
   "file_extension": ".py",
   "mimetype": "text/x-python",
   "name": "python",
   "nbconvert_exporter": "python",
   "pygments_lexer": "ipython3",
   "version": "3.5.2"
  }
 },
 "nbformat": 4,
 "nbformat_minor": 2
}
