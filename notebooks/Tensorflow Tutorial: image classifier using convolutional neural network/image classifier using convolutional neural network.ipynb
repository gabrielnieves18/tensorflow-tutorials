{
 "cells": [
  {
   "cell_type": "code",
   "execution_count": 126,
   "metadata": {
    "collapsed": true
   },
   "outputs": [],
   "source": [
    "# call %matplotlib only in a Jupiter notebook\n",
    "%matplotlib inline \n",
    "\n",
    "# Common and local imports\n",
    "import dataset\n",
    "import matplotlib.pyplot as plt\n",
    "import numpy as np\n",
    "import pandas as pd\n",
    "import tensorflow as tf"
   ]
  },
  {
   "cell_type": "markdown",
   "metadata": {},
   "source": [
    "# Prerequisites\n",
    "\n",
    "* **OpenCV:** We use openCV to read images of cats/Dogs so you will have to install it. <br /><br />\n",
    "\n",
    "* **Shape function:** If you have multi-dimensional Tensor in TF, you can get the shape of it by doing this:"
   ]
  },
  {
   "cell_type": "code",
   "execution_count": 127,
   "metadata": {},
   "outputs": [
    {
     "name": "stdout",
     "output_type": "stream",
     "text": [
      "[ 16 128 128   3]\n"
     ]
    }
   ],
   "source": [
    "a = tf.truncated_normal([16,128,128,3])\n",
    "with tf.Session() as sess:\n",
    "    sess.run(tf.global_variables_initializer())\n",
    "    print(sess.run(tf.shape(a)))"
   ]
  },
  {
   "cell_type": "code",
   "execution_count": 128,
   "metadata": {},
   "outputs": [
    {
     "name": "stdout",
     "output_type": "stream",
     "text": [
      "[   16 49152]\n"
     ]
    }
   ],
   "source": [
    "# Reshape \"a\" into 2D Tensor with shape Array([16, 49152])\n",
    "with tf.Session() as sess:\n",
    "    b=tf.reshape(a, [16,49152])\n",
    "    print(sess.run(tf.shape(b)))"
   ]
  },
  {
   "cell_type": "markdown",
   "metadata": {},
   "source": [
    ">***Note:*** We have collapse the last 3 dimentions into 1 single dimention. \n",
    "\n",
    "> $$ 49152 = (128\\times 128\\times 3) $$ \n",
    "\n"
   ]
  },
  {
   "cell_type": "code",
   "execution_count": 129,
   "metadata": {},
   "outputs": [
    {
     "data": {
      "text/plain": [
       "[]"
      ]
     },
     "execution_count": 129,
     "metadata": {},
     "output_type": "execute_result"
    },
    {
     "data": {
      "image/png": "[encoded data removed]",
      "text/plain": [
       "<matplotlib.figure.Figure at 0x7fa413ae1e48>"
      ]
     },
     "metadata": {},
     "output_type": "display_data"
    }
   ],
   "source": [
    "# Lets user Pandas DataFrame to see how this looks!\n",
    "sess = tf.Session()\n",
    "b_pd = pd.DataFrame(sess.run(b))\n",
    "sess.close() # Remember to always close the session!\n",
    "b_pd.iloc[1, :].hist(bins=50, figsize=(10, 5))\n",
    "plt.plot()"
   ]
  },
  {
   "cell_type": "markdown",
   "metadata": {},
   "source": [
    ">***Note:*** That's a beautifull normal distribution!  :')"
   ]
  },
  {
   "cell_type": "markdown",
   "metadata": {},
   "source": [
    "> *Continuation of Prerequisites*\n",
    "\n",
    "* **Softmax:** is a function that converts K-dimensional vector ‘x’ containing real values to the same shaped vector of real values in the range of (0,1), whose sum is 1. We shall apply the softmax function to the output of our convolutional neural network in order to, convert the output to the probability for each class.\n",
    "\n",
    "$$ o(x)_{j} = \\frac{ e^{x_{i}} }{\\ \\sum_{n=1}^N e^{x_{i}}\\ } \n",
    "                \\bigg \\} \\ j = 1 \\dotsc N  $$\n",
    "\n",
    "> This is a type of *normalization*. This one in particular is also called [*normalized exponential function*](https://en.wikipedia.org/wiki/Softmax_function)\n",
    "\n"
   ]
  },
  {
   "cell_type": "markdown",
   "metadata": {},
   "source": [
    "# Reading inputs\n",
    "\n",
    "I have used 2000 images of dogs and cats each from [Kaggle dataset](https://www.kaggle.com/c/dogs-vs-cats) but you could use any n image folders on your computer which contain different kinds of objects. Typically, we divide our input data into 3 parts:\n",
    "\n",
    "1. ***Training data:*** we shall use 80% i.e. 0 images for training. <br /><br />\n",
    "\n",
    "1. ***Validation data:*** 20% images will be used for validation. These images are taken out of training data to calculate accuracy independently during the training process. <br /><br />\n",
    "\n",
    "1. ***Test set:*** separate independent data for testing which has around 400 images. Sometimes due to something called Overfitting; after training, neural networks start working very well on the training data(and very similar images) i.e. the cost becomes very small, but they fail to work well for other images. For example, if you are training a classifier between dogs and cats and you get training data from someone who takes all images with white backgrounds. It’s possible that your network works very well on this validation data-set, but if you try to run it on an image with a cluttered background, it will most likely fail. So, that’s why we try to get our test-set from an independent source."
   ]
  },
  {
   "cell_type": "code",
   "execution_count": 130,
   "metadata": {},
   "outputs": [
    {
     "name": "stdout",
     "output_type": "stream",
     "text": [
      "Going to read training images\n",
      "Now going to read dogs files (Index: 0)\n",
      "Now going to read cats files (Index: 1)\n",
      "<dataset.read_train_sets.<locals>.DataSets object at 0x7fa3f244c240>\n"
     ]
    }
   ],
   "source": [
    "classes = ['dogs', 'cats']\n",
    "num_classes = len(classes)\n",
    " \n",
    "train_path='training_data'\n",
    "\n",
    "# validation split\n",
    "validation_size = 0.2\n",
    "\n",
    "# 128 x 128 RGB image\n",
    "img_size = 128\n",
    "\n",
    "# RGB images have 3 channels\n",
    "num_channels = 3\n",
    "\n",
    "# batch size\n",
    "batch_size = 16\n",
    " \n",
    "data = dataset.read_train_sets(train_path, img_size, classes, validation_size=validation_size)\n",
    "\n",
    "print(data)"
   ]
  },
  {
   "cell_type": "markdown",
   "metadata": {},
   "source": [
    "> dataset is a class that the author created to facilitate reading the input data. This is a simple python code that reads images from the provided training and testing data folders.\n",
    "\n",
    "The objective of our training is to learn the correct values of weights/biases for all the neurons in the network that work to do classification between dog and cat. **The Initial value of these weights be anything, but it works better if you take normal distributions (with mean zero and small variance)**. There are other methods to initialize the network but normal distribution is more prevalent. "
   ]
  },
  {
   "cell_type": "markdown",
   "metadata": {},
   "source": [
    "Now, let’s define functions to create the initial weights quickly just by specifying the shape."
   ]
  },
  {
   "cell_type": "code",
   "execution_count": 131,
   "metadata": {
    "collapsed": true
   },
   "outputs": [],
   "source": [
    "def create_weights(shape):\n",
    "    return tf.Variable(tf.truncated_normal(shape, stddev=0.05))\n",
    "\n",
    "def create_biases(size):\n",
    "    return tf.Variable(tf.constant(0.05, shape=[size]))"
   ]
  },
  {
   "cell_type": "markdown",
   "metadata": {},
   "source": [
    "# Creating network layers"
   ]
  },
  {
   "cell_type": "markdown",
   "metadata": {},
   "source": [
    "## Building convolution layer in TensorFlow\n",
    "\n",
    "**`tf.nn.conv2d`** function can be used to build a convolutional layer which takes these inputs:\n",
    "\n",
    "* **input** = the output(activation) from the previous layer. This should be a 4-D tensor. Typically, in the first convolutional layer, you pass n images of size **`width * height * num_channels`**, then this has the size `[n width height num_channels]` <br /> <br />\n",
    "\n",
    "* **filter** = trainable variables defining the filter. We start with a random normal distribution and learn these weights. It’s a 4D tensor whose specific shape is predefined as part of network design. If your filter is of size `filter_size` and input fed has `num_input_channels` and you have `num_filters` filters in your current layer, then filter will have following shape: \n",
    "\n",
    "    * `[filter_size, filter_size, num_input_channels, num_filters]`<br /> <br />\n",
    "\n",
    "* **strides** = defines how much you move your filter when doing convolution. In this function, it needs to be a Tensor of **`size>=4`** i.e. **`[batch_stride x_stride y_stride depth_stride]`**. batch_stride is always 1 as you don’t want to skip images in your batch. `x_stride` and `y_stride` are same mostly and the choice is part of network design and we shall use them as 1 in our example. `depth_stride` is always set as 1 as you don’t skip along the depth. <br /> <br />\n",
    "\n",
    "* **padding** = SAME means we shall 0 pad the input such a way that output `x,y` dimensions are same as that of input. <br /> <br />\n",
    "\n",
    "After convolution, we add the biases of that neuron, which are also learnable/trainable. Again we start with random normal distribution and learn these values during training.\n",
    "\n",
    "Now, we apply max-pooling using `tf.nn.max_pool` function that has a very similar signature as that of `conv2d` function."
   ]
  },
  {
   "cell_type": "code",
   "execution_count": 132,
   "metadata": {},
   "outputs": [],
   "source": [
    "def create_convolutional_layer(input,\n",
    "                               num_input_channels,\n",
    "                               conv_filter_size,\n",
    "                               num_filters):\n",
    "    \n",
    "    ## We shall define the weights that will be trained using create_weights function.\n",
    "    weights = create_weights(shape=[conv_filter_size, conv_filter_size, num_input_channels, num_filters])\n",
    "    \n",
    "    ## We create biases using the create_biases function. These are also trained.\n",
    "    biases = create_biases(num_filters)\n",
    "\n",
    "    ## Creating the convolutional layer\n",
    "    layer = tf.nn.conv2d(input=input,\n",
    "                         filter=weights,\n",
    "                         strides=[1, 1, 1, 1],\n",
    "                         padding='SAME')\n",
    "\n",
    "    layer += biases\n",
    "\n",
    "    ## We shall be using max-pooling.  \n",
    "    layer = tf.nn.max_pool(value=layer,\n",
    "                            ksize=[1, 2, 2, 1],\n",
    "                            strides=[1, 2, 2, 1],\n",
    "                            padding='SAME')\n",
    "    ## Output of pooling is fed to Relu which is the activation function for us.\n",
    "    layer = tf.nn.relu(layer)\n",
    "\n",
    "    return layer"
   ]
  },
  {
   "cell_type": "markdown",
   "metadata": {},
   "source": [
    "## Flattening layer\n",
    "\n",
    "The Output of a convolutional layer is a multi-dimensional Tensor. We want to convert this into a one-dimensional tensor. This is done in the Flattening layer. We simply use the reshape operation to create a single dimensional tensor as defined below:"
   ]
  },
  {
   "cell_type": "code",
   "execution_count": 133,
   "metadata": {
    "collapsed": true
   },
   "outputs": [],
   "source": [
    "def create_flatten_layer(layer):\n",
    "    layer_shape = layer.get_shape()\n",
    "    num_features = layer_shape[1:4].num_elements()\n",
    "    layer = tf.reshape(layer, [-1, num_features])\n",
    "    return layer"
   ]
  },
  {
   "cell_type": "markdown",
   "metadata": {
    "collapsed": true
   },
   "source": [
    "> <p>`num_elements()` just multiplies the values within the specified indexes.</p>\n",
    "\n",
    "> <p>Ex: <br /> `shape([ 2 5 10 ]).num_elements()` would return `(2 * 5 * 10)` where as <br /> `shape([ 2 5 10 ])[1:2].num_elements()` would return `( 2 * 5 )`</p>\n",
    "    "
   ]
  },
  {
   "cell_type": "markdown",
   "metadata": {},
   "source": [
    "# Fully connected layer\n",
    "\n",
    "Now, let’s define a function to create a fully connected layer. Just like any other layer, we declare weights and biases as random normal distributions. In fully connected layer, we take all the inputs, do the standard z=wx+b operation on it. Also sometimes you would want to add a non-linearity(RELU) to it. So, let’s add a condition that allows the caller to add RELU to the layer."
   ]
  },
  {
   "cell_type": "code",
   "execution_count": 134,
   "metadata": {
    "collapsed": true
   },
   "outputs": [],
   "source": [
    "def create_fc_layer(input,          \n",
    "                    num_inputs,    \n",
    "                    num_outputs,\n",
    "                    use_relu=True):\n",
    "    \n",
    "    #Let's define trainable weights and biases.\n",
    "    weights = create_weights(shape=[num_inputs, num_outputs])\n",
    "    biases = create_biases(num_outputs)\n",
    " \n",
    "    layer = tf.matmul(input, weights) + biases\n",
    "    \n",
    "    if use_relu:\n",
    "        layer = tf.nn.relu(layer)\n",
    " \n",
    "    return layer"
   ]
  },
  {
   "cell_type": "markdown",
   "metadata": {},
   "source": [
    "# Placeholders and input\n",
    "\n",
    "Now, let’s create a placeholder that will hold the input training images. All the input images are read in dataset.py file and resized to 128 x 128 x 3 size. Input placeholder x is created in the shape of [None, 128, 128, 3]. The first dimension being None means you can pass any number of images to it. For this program, we shall pass images in the batch of 16 i.e. shape will be [16 128 128 3]. Similarly, we create a placeholder y_true for storing the predictions. For each image, we have two outputs i.e. probabilities for each class. Hence y_pred is of the shape [None 2] (for batch size 16 it will be [16 2]."
   ]
  },
  {
   "cell_type": "code",
   "execution_count": 135,
   "metadata": {},
   "outputs": [],
   "source": [
    "# The images themself\n",
    "x = tf.placeholder(tf.float32, \n",
    "                   shape=[None, img_size,img_size, num_channels], \n",
    "                   name='x')\n",
    "\n",
    "# Real label for the image\n",
    "y_true = tf.placeholder(tf.float32, \n",
    "                        shape=[None, num_classes], \n",
    "                        name='y_true')\n",
    "\n",
    "# Predicted label for the image\n",
    "y_true_cls = tf.argmax(y_true, axis=1)"
   ]
  },
  {
   "cell_type": "markdown",
   "metadata": {},
   "source": [
    "# Network design\n",
    "\n",
    "We use the functions defined above to create various layers of the network."
   ]
  },
  {
   "cell_type": "code",
   "execution_count": 136,
   "metadata": {},
   "outputs": [],
   "source": [
    "# Network graph params\n",
    "filter_size_conv1 = 3 \n",
    "num_filters_conv1 = 32\n",
    "\n",
    "filter_size_conv2 = 3\n",
    "num_filters_conv2 = 32\n",
    "\n",
    "filter_size_conv3 = 3\n",
    "num_filters_conv3 = 64\n",
    "    \n",
    "fc_layer_size = 128\n",
    "\n",
    "# Define Network\n",
    "layer_conv1 = create_convolutional_layer(input=x,\n",
    "                                         num_input_channels=num_channels,\n",
    "                                         conv_filter_size=filter_size_conv1,\n",
    "                                         num_filters=num_filters_conv1)\n",
    "\n",
    "layer_conv2 = create_convolutional_layer(input=layer_conv1,\n",
    "                                         num_input_channels=num_filters_conv1,\n",
    "                                         conv_filter_size=filter_size_conv2,\n",
    "                                         num_filters=num_filters_conv2)\n",
    "\n",
    "layer_conv3 = create_convolutional_layer(input=layer_conv2,\n",
    "                                        num_input_channels=num_filters_conv2,\n",
    "                                        conv_filter_size=filter_size_conv3,\n",
    "                                        num_filters=num_filters_conv3)\n",
    "          \n",
    "layer_flat = create_flatten_layer(layer_conv3)\n",
    "\n",
    "# fc = Fully Connected\n",
    "layer_fc1 = create_fc_layer(input=layer_flat,\n",
    "                            num_inputs=layer_flat.get_shape()[1:4].num_elements(),\n",
    "                            num_outputs=fc_layer_size,\n",
    "                            use_relu=True)\n",
    "\n",
    "layer_fc2 = create_fc_layer(input=layer_fc1,\n",
    "                            num_inputs=fc_layer_size,\n",
    "                            num_outputs=num_classes,\n",
    "                            use_relu=False)\n",
    "\n",
    "y_pred = tf.nn.softmax(layer_fc2, name=\"y_pred\")"
   ]
  },
  {
   "cell_type": "markdown",
   "metadata": {},
   "source": [
    "# Predictions\n",
    "\n",
    "As mentioned above, you can get the probability of each class by applying softmax to the output of fully connected layer.\n",
    "\n",
    "`y_pred = tf.nn.softmax(layer_fc2,name=\"y_pred\")`\n",
    "\n",
    "y_pred contains the predicted probability of each class for each input image. The class having higher probability is the prediction of the network. y_pred_cls = tf.argmax(y_pred, dimension=1)\n",
    "\n",
    "Now, let’s define the cost that will be minimized to reach the optimum value of weights. We will use a simple cost that will be calculated using a Tensorflow function softmax_cross_entropy_with_logits which takes the output of last fully connected layer and actual labels to calculate cross_entropy whose average will give us the cost."
   ]
  },
  {
   "cell_type": "code",
   "execution_count": 137,
   "metadata": {},
   "outputs": [],
   "source": [
    "y_pred_cls = tf.argmax(y_pred, axis=1)\n",
    "\n",
    "cross_entropy = tf.nn.softmax_cross_entropy_with_logits(logits=layer_fc2,\n",
    "                                                        labels=y_true)\n",
    "cost = tf.reduce_mean(cross_entropy)"
   ]
  },
  {
   "cell_type": "markdown",
   "metadata": {},
   "source": [
    "# Optimization\n",
    "\n",
    "Tensorflow implements most of the optimisation functions. We shall use AdamOptimizer for gradient calculation and weight optimization. We shall specify that we are trying to minimise cost with a learning rate of 0.0001.\n",
    "\n",
    "`optimizer = tf.train.AdamOptimizer(learning_rate=1e-4).minimize(cost)`\n",
    "\n",
    "As you know, if we run optimizer operation inside session.run(), in order to calculate the value of cost, the whole network will have to be run and we will pass the training images in a feed_dict(Does that make sense? Think about, what variable would you need to calculate cost and keep going up in the code). Training images are passed in a batch of 16(batch_size) in each iteration"
   ]
  },
  {
   "cell_type": "code",
   "execution_count": null,
   "metadata": {},
   "outputs": [],
   "source": [
    "optimizer = tf.train.AdamOptimizer(learning_rate=1e-3).minimize(cost)\n",
    "correct_prediction = tf.equal(y_pred_cls, y_true_cls)\n",
    "accuracy = tf.reduce_mean(tf.cast(correct_prediction, tf.float32))"
   ]
  },
  {
   "cell_type": "markdown",
   "metadata": {
    "collapsed": true
   },
   "source": [
    "We can calculate the validation accuracy by passing accuracy in session.run() and providing validation images in a feed_dict.\n",
    "\n",
    "`val_acc = session.run(accuracy,feed_dict=feed_dict_validate)`\n",
    "\n",
    "Similarly, we also report the accuracy for the training images.\n",
    "\n",
    "`acc = session.run(accuracy, feed_dict=feed_dict_train)`\n",
    "\n",
    "As, training images along with labels are used for training, so in general training accuracy will be higher than validation. We report training accuracy to know that we are at least moving in the right direction and are at least improving accuracy in the training dataset. After each Epoch, we report the accuracy numbers and save the model using saver object in Tensorflow."
   ]
  },
  {
   "cell_type": "code",
   "execution_count": 139,
   "metadata": {},
   "outputs": [],
   "source": [
    "total_iterations = 0\n",
    "saver = tf.train.Saver()\n",
    "# saver.save(session, 'dogs-cats-model')"
   ]
  },
  {
   "cell_type": "code",
   "execution_count": 149,
   "metadata": {
    "collapsed": true
   },
   "outputs": [],
   "source": [
    "def show_progress(epoch, \n",
    "                  feed_dict_train, \n",
    "                  feed_dict_validate, \n",
    "                  val_loss,\n",
    "                  session):\n",
    "    acc = session.run(accuracy, feed_dict=feed_dict_train)\n",
    "    val_acc = session.run(accuracy, feed_dict=feed_dict_validate)\n",
    "    msg = \"Training Epoch {0} --- Training Accuracy: {1:>6.1%}, Validation Accuracy: {2:>6.1%},  Validation Loss: {3:.3f}\"\n",
    "    print(msg.format(epoch + 1, acc, val_acc, val_loss))"
   ]
  },
  {
   "cell_type": "code",
   "execution_count": 168,
   "metadata": {},
   "outputs": [],
   "source": [
    "def train(num_iteration):\n",
    "    global total_iterations\n",
    "    global loss\n",
    "    global epochs\n",
    "    global accuracy_array\n",
    "    \n",
    "    with tf.Session() as session:   \n",
    "        session.run(tf.global_variables_initializer())\n",
    "        loss = []\n",
    "        epochs = []\n",
    "        accuracy_array = []\n",
    "        \n",
    "        for i in range(total_iterations,\n",
    "                       total_iterations + num_iteration):\n",
    "\n",
    "            x_batch, y_true_batch, _, cls_batch = data.train.next_batch(batch_size)\n",
    "            x_valid_batch, y_valid_batch, _, valid_cls_batch = data.valid.next_batch(batch_size)\n",
    "            \n",
    "            feed_dict_tr = {\n",
    "                x: x_batch, \n",
    "                y_true: y_true_batch\n",
    "            }\n",
    "        \n",
    "            feed_dict_val = {\n",
    "                x: x_valid_batch,\n",
    "                y_true: y_valid_batch\n",
    "            }\n",
    "\n",
    "            session.run(optimizer, feed_dict=feed_dict_tr)\n",
    "\n",
    "            if i % int(data.train.num_examples/batch_size) == 0: \n",
    "                val_loss = session.run(cost, feed_dict=feed_dict_val)\n",
    "                epoch = int(i / int(data.train.num_examples/batch_size))    \n",
    "\n",
    "                loss.append(val_loss)\n",
    "                epochs.append(epoch)\n",
    "                accuracy_array.append(session.run(accuracy, feed_dict=feed_dict_tr))\n",
    "                \n",
    "                loss_map = {\n",
    "                    'loss': loss,\n",
    "                    'epochs': epochs\n",
    "                }\n",
    "\n",
    "                if (epoch > 0) and (epoch % 5) == 0:\n",
    "                    pd_loss = pd.DataFrame(loss_map)\n",
    "                    pd_loss.plot(x=\"epochs\", y=\"loss\", kind='line')\n",
    "                    plt.show()  \n",
    "                \n",
    "#                 show_progress(epoch, \n",
    "#                               feed_dict_tr, \n",
    "#                               feed_dict_val,\n",
    "#                               val_loss,\n",
    "#                               session)\n",
    "\n",
    "                saver.save(session, 'dogs-cats-model') \n",
    "                \n",
    "        total_iterations += num_iteration"
   ]
  },
  {
   "cell_type": "code",
   "execution_count": null,
   "metadata": {
    "scrolled": true
   },
   "outputs": [],
   "source": [
    "# 1 epoch = 100 iterations or (num_of_images/batch)\n",
    "train(num_iteration=1000)"
   ]
  },
  {
   "cell_type": "code",
   "execution_count": null,
   "metadata": {},
   "outputs": [],
   "source": []
  },
  {
   "cell_type": "code",
   "execution_count": null,
   "metadata": {
    "collapsed": true
   },
   "outputs": [],
   "source": []
  }
 ],
 "metadata": {
  "kernelspec": {
   "display_name": "Python 3",
   "language": "python",
   "name": "python3"
  },
  "language_info": {
   "codemirror_mode": {
    "name": "ipython",
    "version": 3
   },
   "file_extension": ".py",
   "mimetype": "text/x-python",
   "name": "python",
   "nbconvert_exporter": "python",
   "pygments_lexer": "ipython3",
   "version": "3.5.2"
  }
 },
 "nbformat": 4,
 "nbformat_minor": 2
}
